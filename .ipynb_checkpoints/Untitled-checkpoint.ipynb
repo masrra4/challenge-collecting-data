{
 "cells": [
  {
   "cell_type": "code",
   "execution_count": 1,
   "id": "019902b6",
   "metadata": {},
   "outputs": [
    {
     "name": "stdout",
     "output_type": "stream",
     "text": [
      "https://immoeliza-real-estate.herokuapp.com/ 200\n"
     ]
    },
    {
     "data": {
      "text/plain": [
       "<!DOCTYPE html>\n",
       "<html>\n",
       "<head>\n",
       "<!-- Required meta tags -->\n",
       "<meta charset=\"utf-8\"/>\n",
       "<meta content=\"width=device-width, initial-scale=1, shrink-to-fit=no\" name=\"viewport\"/>\n",
       "<!-- Bootstrap CSS -->\n",
       "<link crossorigin=\"anonymous\" href=\"https://maxcdn.bootstrapcdn.com/bootstrap/4.0.0/css/bootstrap.min.css\" integrity=\"sha384-Gn5384xqQ1aoWXA+058RXPxPg6fy4IWvTNh0E263XmFcJlSAwiGgFAW/dAiS6JXm\" rel=\"stylesheet\"/>\n",
       "<link href=\"/static/main.css\" rel=\"stylesheet\" type=\"text/css\"/>\n",
       "<title>ImmoEliza Real Estate</title>\n",
       "</head>\n",
       "<body>\n",
       "<header class=\"site-header\">\n",
       "<nav class=\"navbar navbar-expand-md navbar-dark bg-steel fixed-top\">\n",
       "<div class=\"container\">\n",
       "<a class=\"navbar-brand mr-4\" href=\"/\">ImmoEliza Real Estate</a>\n",
       "<button aria-controls=\"navbarToggle\" aria-expanded=\"false\" aria-label=\"Toggle navigation\" class=\"navbar-toggler\" data-target=\"#navbarToggle\" data-toggle=\"collapse\" type=\"button\">\n",
       "<span class=\"navbar-toggler-icon\"></span>\n",
       "</button>\n",
       "<div class=\"collapse navbar-collapse\" id=\"navbarToggle\">\n",
       "<div class=\"navbar-nav mr-auto\">\n",
       "<a class=\"nav-item nav-link\" href=\"/home\">Home</a>\n",
       "</div>\n",
       "<img align=\"center\" alt=\"ImmoEliza Logo\" src=\"https://user-images.githubusercontent.com/69633814/100371617-5a6e9400-3008-11eb-818f-c4fbee59744a.png\" title=\"ImmoEliza Logo\" width=\"50px\"/>\n",
       "<!-- Navbar Right Side -->\n",
       "<div class=\"navbar-nav\">\n",
       "<a class=\"nav-item nav-link\" href=\"/github\">Github Pages</a>\n",
       "<!--<a class=\"nav-item nav-link\" href=\"/apartment\">Predict Apartment Price</a>\n",
       "              <a class=\"nav-item nav-link\" href=\"/house_postal_code\">Predict House Price with Postal Code</a>-->\n",
       "</div>\n",
       "</div>\n",
       "</div>\n",
       "</nav>\n",
       "</header>\n",
       "<main class=\"container\" role=\"main\">\n",
       "<div class=\"row\">\n",
       "<div class=\"col-md-8\">\n",
       "<h1>Welcome to ImmoEliza</h1>\n",
       "<br/>\n",
       "      We provide free price predictions for real estate in Belgium.Prediction on houses or apartment according to certain parameters (city name,postal code,number of rooms,surface area,etc)\n",
       "\n",
       "  \n",
       "  <br/>\n",
       "<img alt=\"Welcome\" src=\"https://user-images.githubusercontent.com/69633814/99885385-bc0fb680-2c34-11eb-8513-c54935f9fa94.png\" width=\"700px\"/>\n",
       "</div>\n",
       "<div class=\"col-md-4\">\n",
       "<div class=\"content-section\">\n",
       "<h3>Real Estate Prediction</h3>\n",
       "<p class=\"text-muted\">\n",
       "</p><ul class=\"list-group\">\n",
       "<li class=\"list-group-item list-group-item-light\">Prediction with Postal Code</li>\n",
       "<a class=\"nav-item nav-link\" href=\"/house_postal_code\">Predict House Price </a>\n",
       "<a class=\"nav-item nav-link\" href=\"/apartment_postal_code\">Predict Aparment Price  </a>\n",
       "<li class=\"list-group-item list-group-item-light\">Prediction with City Name</li>\n",
       "<a class=\"nav-item nav-link\" href=\"/house\">Predict House Price</a>\n",
       "<a class=\"nav-item nav-link\" href=\"/apartment\">Predict Apartment Price</a>\n",
       "<li class=\"list-group-item list-group-item-light\">Map</li>\n",
       "<a class=\"nav-item nav-link\" href=\"/map_average_house_price\">Average House Price</a>\n",
       "<a class=\"nav-item nav-link\" href=\"/map_average_apartment_price\">Average Apartment Price</a>\n",
       "</ul>\n",
       "</div>\n",
       "</div>\n",
       "</div>\n",
       "</main>\n",
       "<!-- Optional JavaScript -->\n",
       "<!-- jQuery first, then Popper.js, then Bootstrap JS -->\n",
       "<script crossorigin=\"anonymous\" integrity=\"sha384-KJ3o2DKtIkvYIK3UENzmM7KCkRr/rE9/Qpg6aAZGJwFDMVNA/GpGFF93hXpG5KkN\" src=\"https://code.jquery.com/jquery-3.2.1.slim.min.js\"></script>\n",
       "<script crossorigin=\"anonymous\" integrity=\"sha384-ApNbgh9B+Y1QKtv3Rn7W3mgPxhU9K/ScQsAP7hUibX39j7fakFPskvXusvfa0b4Q\" src=\"https://cdnjs.cloudflare.com/ajax/libs/popper.js/1.12.9/umd/popper.min.js\"></script>\n",
       "<script crossorigin=\"anonymous\" integrity=\"sha384-JZR6Spejh4U02d8jOt6vLEHfe/JQGiRRSQQxSfFWpi1MquVdAyjUar5+76PVCmYl\" src=\"https://maxcdn.bootstrapcdn.com/bootstrap/4.0.0/js/bootstrap.min.js\"></script>\n",
       "</body>\n",
       "</html>"
      ]
     },
     "execution_count": 1,
     "metadata": {},
     "output_type": "execute_result"
    }
   ],
   "source": [
    "from bs4 import BeautifulSoup\n",
    "import requests\n",
    "url = \"https://immoeliza-real-estate.herokuapp.com/\"\n",
    "r = requests.get(url)\n",
    "print(url, r.status_code)\n",
    "soup = BeautifulSoup(r.content, \"lxml\")\n",
    "soup"
   ]
  },
  {
   "cell_type": "code",
   "execution_count": null,
   "id": "da3c7eef",
   "metadata": {},
   "outputs": [],
   "source": [
    "<h1>Predict House Price with Postal Code</h1>"
   ]
  }
 ],
 "metadata": {
  "kernelspec": {
   "display_name": "Python 3 (ipykernel)",
   "language": "python",
   "name": "python3"
  },
  "language_info": {
   "codemirror_mode": {
    "name": "ipython",
    "version": 3
   },
   "file_extension": ".py",
   "mimetype": "text/x-python",
   "name": "python",
   "nbconvert_exporter": "python",
   "pygments_lexer": "ipython3",
   "version": "3.9.7"
  }
 },
 "nbformat": 4,
 "nbformat_minor": 5
}
